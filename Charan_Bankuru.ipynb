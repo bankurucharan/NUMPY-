{
  "nbformat": 4,
  "nbformat_minor": 0,
  "metadata": {
    "colab": {
      "provenance": [],
      "authorship_tag": "ABX9TyMhcgXG80Ud98jE88M31Vps",
      "include_colab_link": true
    },
    "kernelspec": {
      "name": "python3",
      "display_name": "Python 3"
    },
    "language_info": {
      "name": "python"
    }
  },
  "cells": [
    {
      "cell_type": "markdown",
      "metadata": {
        "id": "view-in-github",
        "colab_type": "text"
      },
      "source": [
        "<a href=\"https://colab.research.google.com/github/bankurucharan/NUMPY-/blob/main/Charan_Bankuru.ipynb\" target=\"_parent\"><img src=\"https://colab.research.google.com/assets/colab-badge.svg\" alt=\"Open In Colab\"/></a>"
      ]
    },
    {
      "cell_type": "markdown",
      "source": [
        "***Getting Familiar with NumPy : ***\n",
        "\n",
        "NumPy is a foundational packagein Python,\n",
        "1. Importing NumPy :-\n",
        "First, we need to import the NumPy library. It is typically imported with \"np\":"
      ],
      "metadata": {
        "id": "heZmoBZzyUwZ"
      }
    },
    {
      "cell_type": "code",
      "execution_count": null,
      "metadata": {
        "id": "OKwD7U-QdyiT"
      },
      "outputs": [],
      "source": [
        "import numpy as np"
      ]
    },
    {
      "cell_type": "markdown",
      "source": [
        "2. **Creating Arrays** :\n",
        "\n",
        "Arrays are the data structure in NumPy. You can create arrays from Python lists or tuples:"
      ],
      "metadata": {
        "id": "GfHAXGXgzEkE"
      }
    },
    {
      "cell_type": "code",
      "source": [
        "import numpy as np\n",
        "# 1D Array\n",
        "array_1d = np.array([1, 2, 3, 4, 5])\n",
        "# 2D Array\n",
        "array_2d = np.array([[1, 2, 3], [4, 5, 6]])\n",
        "print(\"1D Array:\", array_1d)\n",
        "print(\"2D Array:\\n\", array_2d)"
      ],
      "metadata": {
        "colab": {
          "base_uri": "https://localhost:8080/"
        },
        "id": "ZoigQveZyYMR",
        "outputId": "b9b1a670-b606-4a2f-fb7a-647647be51e8"
      },
      "execution_count": 2,
      "outputs": [
        {
          "output_type": "stream",
          "name": "stdout",
          "text": [
            "1D Array: [1 2 3 4 5]\n",
            "2D Array:\n",
            " [[1 2 3]\n",
            " [4 5 6]]\n"
          ]
        }
      ]
    },
    {
      "cell_type": "markdown",
      "source": [
        "**3. Array Properties:-**\n",
        "\n",
        "we can easily inspect the properties of NumPy arrays:"
      ],
      "metadata": {
        "id": "e0__4KRu0F4B"
      }
    },
    {
      "cell_type": "code",
      "source": [
        "import numpy as np\n",
        "# Shape of the array\n",
        "print(\"Shape:\", array_2d.shape)\n",
        "# Size of the array (total number of elements)\n",
        "print(\"Size:\", array_2d.size)\n",
        "# Data type of the elements\n",
        "print(\"Data Type:\", array_2d.dtype)"
      ],
      "metadata": {
        "colab": {
          "base_uri": "https://localhost:8080/"
        },
        "id": "FMCsaA25z0YW",
        "outputId": "1eebc47a-35c4-4948-9491-2b36b4b7958f"
      },
      "execution_count": 3,
      "outputs": [
        {
          "output_type": "stream",
          "name": "stdout",
          "text": [
            "Shape: (2, 3)\n",
            "Size: 6\n",
            "Data Type: int64\n"
          ]
        }
      ]
    },
    {
      "cell_type": "markdown",
      "source": [
        "**4. Basic Operations:-**\n",
        "\n",
        "NumPy allows you to perform operations easily:"
      ],
      "metadata": {
        "id": "PKJjXtfl04js"
      }
    },
    {
      "cell_type": "code",
      "source": [
        "import numpy as np\n",
        "#  addition\n",
        "array_add = array_1d + 10\n",
        "print(\"addition:\", array_add)\n",
        "#  multiplication\n",
        "array_mul = array_1d * 2\n",
        "print(\"multiplication:\", array_mul)\n",
        "# square\n",
        "array_square = np.square(array_1d)\n",
        "print(\"square:\", array_square)"
      ],
      "metadata": {
        "colab": {
          "base_uri": "https://localhost:8080/"
        },
        "id": "ZKcCPyAL0b5m",
        "outputId": "15a8ca69-7802-4ce1-8f47-4688cc6ee842"
      },
      "execution_count": 4,
      "outputs": [
        {
          "output_type": "stream",
          "name": "stdout",
          "text": [
            "Element-wise addition: [11 12 13 14 15]\n",
            "Element-wise multiplication: [ 2  4  6  8 10]\n",
            "Element-wise square: [ 1  4  9 16 25]\n"
          ]
        }
      ]
    },
    {
      "cell_type": "markdown",
      "source": [
        " **Data Manipulation with NumPy :-**\n",
        "\n",
        "Python program that demonstrates data manipulation using NumPy, focusing on array creation, indexing, slicing, reshaping, and applying mathematical operations.\n",
        "Array Creation: We create a 1D and a 2D array to work with. The 1D array is a simple vector, and the 2D array is a matrix.\n",
        "\n",
        "Indexing and Slicing:\n",
        "\n",
        "We access a single element from the 2D array.\n",
        "We slice a specific row, column, and sub-array from the 2D array.\n",
        "Reshaping Arrays:\n",
        "\n",
        "We reshape the 1D array into a 2D array and flatten a 2D array back into a 1D array.\n",
        "Mathematical Operations:\n",
        "\n",
        "We perform element-wise addition, multiplication, squaring, and square root operations on the 1D array.\n",
        "We also demonstrate matrix multiplication, summing elements, calculating the mean of columns, and transposing the 2D array."
      ],
      "metadata": {
        "id": "HY6Qet693DOo"
      }
    },
    {
      "cell_type": "code",
      "source": [
        "import numpy as np\n",
        "# 1. Array Creation\n",
        "# Creating a 1D array\n",
        "array_1d = np.array([10, 20, 30, 40, 50])\n",
        "# Creating a 2D array\n",
        "array_2d = np.array([[1, 2, 3], [4, 5, 6], [7, 8, 9]])\n",
        "print(\"1D Array:\", array_1d)\n",
        "print(\"2D Array:\\n\", array_2d)\n",
        "# 2. Indexing and Slicing\n",
        "# Accessing a single element\n",
        "element = array_2d[1, 2]\n",
        "print(\"\\nElement at index [1, 2]:\", element)\n",
        "# Slicing a row\n",
        "row_slice = array_2d[1, :]\n",
        "print(\"Sliced row (2nd row):\", row_slice)\n",
        "# Slicing a column\n",
        "col_slice = array_2d[:, 1]\n",
        "print(\"Sliced column (2nd column):\", col_slice)\n",
        "# 3. Reshaping Arrays\n",
        "# Reshaping 1D array to 2D array\n",
        "reshaped_array = np.reshape(array_1d, (5, 1))\n",
        "print(\"\\nReshaped 1D array to 2D array:\\n\", reshaped_array)\n",
        "# Reshaping 2D array to 1D array\n",
        "flattened_array = array_2d.flatten()\n",
        "print(\"Flattened 2D array to 1D array:\", flattened_array)\n",
        "# 4. Mathematical Operations\n",
        "#  addition\n",
        "added_array = array_1d + 5\n",
        "print(\"addition:\", added_array)\n",
        "# multiplication\n",
        "multiplied_array = array_1d * 2\n",
        "print(\"multiplication:\", multiplied_array)\n",
        "# Sum of all elements\n",
        "sum_elements = np.sum(array_2d)\n",
        "print(\"Sum of all elements in 2D array:\", sum_elements)"
      ],
      "metadata": {
        "colab": {
          "base_uri": "https://localhost:8080/"
        },
        "id": "hpr4RgDX1EsG",
        "outputId": "8bf04c7a-5677-420f-c8f8-efd6f755d2a9"
      },
      "execution_count": 6,
      "outputs": [
        {
          "output_type": "stream",
          "name": "stdout",
          "text": [
            "1D Array: [10 20 30 40 50]\n",
            "2D Array:\n",
            " [[1 2 3]\n",
            " [4 5 6]\n",
            " [7 8 9]]\n",
            "\n",
            "Element at index [1, 2]: 6\n",
            "Sliced row (2nd row): [4 5 6]\n",
            "Sliced column (2nd column): [2 5 8]\n",
            "\n",
            "Reshaped 1D array to 2D array:\n",
            " [[10]\n",
            " [20]\n",
            " [30]\n",
            " [40]\n",
            " [50]]\n",
            "Flattened 2D array to 1D array: [1 2 3 4 5 6 7 8 9]\n",
            "addition: [15 25 35 45 55]\n",
            "multiplication: [ 20  40  60  80 100]\n",
            "Sum of all elements in 2D array: 45\n"
          ]
        }
      ]
    },
    {
      "cell_type": "markdown",
      "source": [
        "**Data Aggregation with NumPy :-**\n",
        "\n",
        "Summary Statistics:\n",
        "Mean: The average value of the dataset.\n",
        "Median: The middle value when the data is sorted.\n",
        "Standard Deviation: Measures the amount of variation or dispersion in the data.\n",
        "Sum: The total of all the data points."
      ],
      "metadata": {
        "id": "7NGb5SaK4jHy"
      }
    },
    {
      "cell_type": "code",
      "source": [
        "import numpy as np\n",
        "data = np.array([10, 20, 30, 40, 50, 60, 70, 80, 90, 100])\n",
        "# 1. Summary Statistics\n",
        "mean_value = np.mean(data)\n",
        "median_value = np.median(data)\n",
        "std_dev = np.std(data)\n",
        "total_sum = np.sum(data)\n",
        "print(\"Mean:\", mean_value)\n",
        "print(\"Median:\", median_value)\n",
        "print(\"Standard Deviation:\", std_dev)\n",
        "print(\"Sum:\", total_sum)\n",
        "# 2. Aggregation on a 2D Array\n",
        "data_2d = np.array([[1, 2, 3], [4, 5, 6], [7, 8, 9]])\n",
        "# Sum of each column\n",
        "sum_columns = np.sum(data_2d, axis=0)\n",
        "print(\"\\nSum of each column:\", sum_columns)\n",
        "# Mean of each row\n",
        "mean_rows = np.mean(data_2d, axis=1)\n",
        "print(\"Mean of each row:\", mean_rows)\n",
        "# Standard deviation across the entire 2D array\n",
        "std_dev_2d = np.std(data_2d)\n",
        "print(\"Standard Deviation of 2D array:\", std_dev_2d)\n",
        "# Maximum and Minimum values in the 2D array\n",
        "max_value = np.max(data_2d)\n",
        "min_value = np.min(data_2d)\n",
        "print(\"Maximum value in 2D array:\", max_value)\n",
        "print(\"Minimum value in 2D array:\", min_value)"
      ],
      "metadata": {
        "colab": {
          "base_uri": "https://localhost:8080/"
        },
        "id": "zHEmKKxs3d8H",
        "outputId": "ab8b43ef-6293-4d2d-8de7-3b364ab2e4f8"
      },
      "execution_count": 7,
      "outputs": [
        {
          "output_type": "stream",
          "name": "stdout",
          "text": [
            "Mean: 55.0\n",
            "Median: 55.0\n",
            "Standard Deviation: 28.722813232690143\n",
            "Sum: 550\n",
            "\n",
            "Sum of each column: [12 15 18]\n",
            "Mean of each row: [2. 5. 8.]\n",
            "Standard Deviation of 2D array: 2.581988897471611\n",
            "Maximum value in 2D array: 9\n",
            "Minimum value in 2D array: 1\n"
          ]
        }
      ]
    },
    {
      "cell_type": "markdown",
      "source": [
        "**Data Analysis with NumPy:-**\n",
        "Finding Correlations:\n",
        "\n",
        "We calculate the correlation coefficient between two datasets (data_x and data_y). The correlation coefficient measures the strength and direction of the linear relationship between the two variables.\n",
        "\n",
        "Calculating Percentiles:\n",
        "\n",
        "We calculate the 25th, 50th (median), and 75th percentiles of the data. Percentiles help us understand the distribution of data points within the dataset."
      ],
      "metadata": {
        "id": "cSnt1-9V51NE"
      }
    },
    {
      "cell_type": "code",
      "source": [
        "import numpy as np\n",
        "data_x = np.array([1, 2, 3, 4, 5, 6, 7, 8, 9, 10])\n",
        "data_y = np.array([2, 4, 5, 4, 5, 6, 8, 8, 9, 10])\n",
        "#Correlations\n",
        "correlation = np.corrcoef(data_x, data_y)[0, 1]\n",
        "print(\"Correlation Coefficient between data_x and data_y:\", correlation)\n",
        "# Calculating Percentiles\n",
        "percentile_25 = np.percentile(data_x, 25)\n",
        "percentile_50 = np.percentile(data_x, 50)\n",
        "percentile_75 = np.percentile(data_x, 75)\n",
        "print(\"\\n25th Percentile of data_x:\", percentile_25)\n",
        "print(\"50th Percentile of data_x (Median):\", percentile_50)\n",
        "print(\"75th Percentile of data_x:\", percentile_75)"
      ],
      "metadata": {
        "colab": {
          "base_uri": "https://localhost:8080/"
        },
        "id": "LUs0yD764z7p",
        "outputId": "94d41fca-fa31-466c-d32a-591688bd1961"
      },
      "execution_count": 8,
      "outputs": [
        {
          "output_type": "stream",
          "name": "stdout",
          "text": [
            "Correlation Coefficient between data_x and data_y: 0.9683205555268893\n",
            "\n",
            "25th Percentile of data_x: 3.25\n",
            "50th Percentile of data_x (Median): 5.5\n",
            "75th Percentile of data_x: 7.75\n"
          ]
        }
      ]
    },
    {
      "cell_type": "markdown",
      "source": [
        "***Application in Data Science :-***\n",
        "\n",
        "How NumPy Helps Data Science Professionals\n",
        "\n",
        "NumPy is a fundamental tool in the toolkit of any data science professional. Here's how NumPy can help:\n",
        "\n",
        "**Efficient Data Handling:**\n",
        "\n",
        "Performance: NumPy arrays are optimized for performance. Operations on NumPy arrays are executed much faster than on Python lists due to the use of low-level optimized C libraries. This speed is crucial when dealing with large datasets, common in data science tasks.\n",
        "\n",
        "**Integration with Other Data Science Tools:**\n",
        "NumPy seamlessly integrates with other essential data science libraries, such as Pandas for data manipulation, Matplotlib for data visualization, and Scikit-Learn for machine learning.\n",
        "\n",
        "Real-World Examples Where NumPy’s Capabilities Are Crucial\n",
        "Machine Learning:\n",
        "\n",
        "Linear Algebra Operations: Many machine learning algorithms, such as linear regression and neural networks, rely heavily on linear algebra operations like matrix multiplication, which are efficiently handled by NumPy.\n",
        "Data Preprocessing: Data preprocessing tasks like normalization, standardization, and feature scaling are commonly performed using NumPy arrays. The ability to handle large datasets quickly is crucial in training machine learning models.\n",
        "Financial Analysis:\n",
        "\n",
        "Time Series Analysis: Financial analysts use NumPy for analyzing time series data, such as stock prices, interest rates, and market indices. Operations like calculating moving averages, volatility, and returns are efficiently performed using NumPy.\n",
        "\n",
        "**Conclusion**:-\n",
        "\n",
        "NumPy is a powerful library that forms the backbone of numerical computation in Python, particularly in the field of data science. we explored its core functionalities, from creating arrays and performing basic operations to manipulating, aggregating, and analyzing data efficiently. NumPy’s ability to handle large datasets with speed and precision, its extensive mathematical and statistical functions, and its seamless integration with other data science libraries make it an indispensable tool for professionals in the field.\n",
        "\n",
        "In summary, NumPy’s capabilities enable data scientists to handle a wide range of computational tasks with ease, making it a foundational library that underpins much of the work done in data-driven fields today."
      ],
      "metadata": {
        "id": "PyB3hL0T7V36"
      }
    },
    {
      "cell_type": "code",
      "source": [],
      "metadata": {
        "id": "5L1CcH5G646a"
      },
      "execution_count": null,
      "outputs": []
    }
  ]
}